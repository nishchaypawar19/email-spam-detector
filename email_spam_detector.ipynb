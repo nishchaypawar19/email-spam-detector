{
  "nbformat": 4,
  "nbformat_minor": 0,
  "metadata": {
    "colab": {
      "provenance": []
    },
    "kernelspec": {
      "name": "python3",
      "display_name": "Python 3"
    },
    "language_info": {
      "name": "python"
    }
  },
  "cells": [
    {
      "cell_type": "code",
      "execution_count": null,
      "metadata": {
        "id": "XuMHKdRaH9wE"
      },
      "outputs": [],
      "source": [
        "import pandas as pd\n",
        "import numpy as np\n",
        "import matplotlib.pyplot as plt\n",
        "import seaborn as sns\n",
        "import warnings\n",
        "warnings.filterwarnings('ignore')\n",
        "from sklearn.model_selection import train_test_split\n",
        "from sklearn.feature_extraction.text import TfidfVectorizer\n",
        "from sklearn.naive_bayes import MultinomialNB\n",
        "from sklearn.metrics import classification_report, accuracy_score"
      ]
    },
    {
      "cell_type": "code",
      "source": [
        "# Step 1: Load dataset\n",
        "# -----------------------------\n",
        "df = pd.read_csv(\"spam_ham_dataset.csv\")\n",
        "\n",
        "# Use 'text' as features and 'label_num' as target\n",
        "X = df['text']\n",
        "y = df['label_num']  # 0 = ham, 1 = spam\n",
        "\n",
        "# -----------------------------\n",
        "# Step 2: Train-test split\n",
        "# -----------------------------\n",
        "X_train, X_test, y_train, y_test = train_test_split(\n",
        "    X, y, test_size=0.2, random_state=42, stratify=y\n",
        ")\n",
        "\n",
        "# -----------------------------\n",
        "# Step 3: Feature extraction\n",
        "# -----------------------------\n",
        "vectorizer = TfidfVectorizer(stop_words='english', max_features=5000)\n",
        "X_train_vec = vectorizer.fit_transform(X_train)\n",
        "X_test_vec = vectorizer.transform(X_test)\n",
        "\n",
        "# -----------------------------\n",
        "# Step 4: Model Training\n",
        "# -----------------------------\n",
        "model = MultinomialNB()\n",
        "model.fit(X_train_vec, y_train)\n",
        "\n",
        "# -----------------------------\n",
        "# Step 5: Evaluation\n",
        "# -----------------------------\n",
        "y_pred = model.predict(X_test_vec)\n",
        "print(\"Accuracy:\", accuracy_score(y_test, y_pred)*100)\n",
        "print(\"\\nClassification Report:\\n\", classification_report(y_test, y_pred, target_names=[\"Ham\",\"Spam\"]))\n",
        "\n",
        "# -----------------------------\n",
        "# Step 6: Prediction Function\n",
        "# -----------------------------\n",
        "def predict_message(msg):\n",
        "    vec = vectorizer.transform([msg])\n",
        "    pred = model.predict(vec)[0]\n",
        "    return \"Spam\" if pred == 1 else \"Ham (Not Spam)\"\n",
        "\n",
        "# Example usage\n",
        "print(predict_message(\"You won a $1000 gift card! Click here.\"))\n",
        "print(predict_message(\"Let's have lunch tomorrow.\"))"
      ],
      "metadata": {
        "colab": {
          "base_uri": "https://localhost:8080/"
        },
        "id": "2FOKsoD2IbEC",
        "outputId": "f9f8f52f-6aa8-4ea1-9fd1-b1c9658ee334"
      },
      "execution_count": null,
      "outputs": [
        {
          "output_type": "stream",
          "name": "stdout",
          "text": [
            "Accuracy: 95.26570048309179\n",
            "\n",
            "Classification Report:\n",
            "               precision    recall  f1-score   support\n",
            "\n",
            "         Ham       0.97      0.96      0.97       735\n",
            "        Spam       0.90      0.94      0.92       300\n",
            "\n",
            "    accuracy                           0.95      1035\n",
            "   macro avg       0.94      0.95      0.94      1035\n",
            "weighted avg       0.95      0.95      0.95      1035\n",
            "\n",
            "Spam\n",
            "Ham (Not Spam)\n"
          ]
        }
      ]
    },
    {
      "cell_type": "code",
      "source": [
        "print(predict_message(\"Congratulations! You have won free tickets.\"))\n",
        "print(predict_message(\"Hey, are we still meeting at 6 PM?\"))\n"
      ],
      "metadata": {
        "colab": {
          "base_uri": "https://localhost:8080/"
        },
        "id": "1Lr8o7gAJLzr",
        "outputId": "af076870-8017-4160-e52d-882cecad7a4e"
      },
      "execution_count": null,
      "outputs": [
        {
          "output_type": "stream",
          "name": "stdout",
          "text": [
            "Ham (Not Spam)\n",
            "Ham (Not Spam)\n"
          ]
        }
      ]
    },
    {
      "cell_type": "code",
      "source": [
        "new_messages = [\n",
        "    \"Get cheap loans instantly. Apply now!\",\n",
        "    \"Don't forget to submit the report tomorrow.\",\n",
        "    \"You won a free iPhone! Claim now.\",\n",
        "]\n",
        "\n",
        "for msg in new_messages:\n",
        "    print(msg, \"->\", predict_message(msg))\n"
      ],
      "metadata": {
        "colab": {
          "base_uri": "https://localhost:8080/"
        },
        "id": "u9XIpqpSJRQf",
        "outputId": "eb147ca6-2b7d-4834-801b-69d5c9bba75a"
      },
      "execution_count": null,
      "outputs": [
        {
          "output_type": "stream",
          "name": "stdout",
          "text": [
            "Get cheap loans instantly. Apply now! -> Spam\n",
            "Don't forget to submit the report tomorrow. -> Ham (Not Spam)\n",
            "You won a free iPhone! Claim now. -> Spam\n"
          ]
        }
      ]
    },
    {
      "cell_type": "code",
      "source": [
        "print(predict_message('you got a first postition in your shcool'))"
      ],
      "metadata": {
        "colab": {
          "base_uri": "https://localhost:8080/"
        },
        "id": "DAb1WPZwJ_pW",
        "outputId": "83c6ca43-c49b-46ab-c85e-e1425010fe70"
      },
      "execution_count": null,
      "outputs": [
        {
          "output_type": "stream",
          "name": "stdout",
          "text": [
            "Ham (Not Spam)\n"
          ]
        }
      ]
    },
    {
      "cell_type": "code",
      "source": [],
      "metadata": {
        "id": "DdlOEaJmKDNb"
      },
      "execution_count": null,
      "outputs": []
    }
  ]
}